{
 "cells": [
  {
   "cell_type": "markdown",
   "metadata": {},
   "source": [
    "[《深度学习与计算机视觉》配套代码](https://frombeijingwithlove.github.io/dlcv_for_beginners/)"
   ]
  },
  {
   "cell_type": "code",
   "execution_count": 13,
   "metadata": {},
   "outputs": [],
   "source": [
    "class A:\n",
    "    \"\"\"Class A\"\"\"\n",
    "    def __init__(self, x, y, name):\n",
    "        self.x = x\n",
    "        self.y = y\n",
    "        self._name = name\n",
    "         \n",
    "    def introduce(self):\n",
    "        print(self._name)\n",
    "        \n",
    "    def greeting(self):\n",
    "        print(\"What's up!\")\n",
    "        \n",
    "    def __l2norm(self):\n",
    "        return self.x**2 + self.y**2\n",
    "    \n",
    "    def cal_l2norm(self):\n",
    "        return self.__l2norm()"
   ]
  },
  {
   "cell_type": "code",
   "execution_count": 14,
   "metadata": {},
   "outputs": [],
   "source": [
    "a = A(11, 11, 'Leonardo')"
   ]
  },
  {
   "cell_type": "code",
   "execution_count": 15,
   "metadata": {},
   "outputs": [
    {
     "data": {
      "text/plain": [
       "'Class A'"
      ]
     },
     "execution_count": 15,
     "metadata": {},
     "output_type": "execute_result"
    }
   ],
   "source": [
    "#  获取文档字符串\n",
    "A.__doc__ # \"Class A\"   "
   ]
  },
  {
   "cell_type": "code",
   "execution_count": 16,
   "metadata": {},
   "outputs": [
    {
     "name": "stdout",
     "output_type": "stream",
     "text": [
      "Leonardo\n"
     ]
    }
   ],
   "source": [
    "a.introduce() # \"Leonardo\""
   ]
  },
  {
   "cell_type": "code",
   "execution_count": 17,
   "metadata": {},
   "outputs": [
    {
     "name": "stdout",
     "output_type": "stream",
     "text": [
      "What's up!\n"
     ]
    }
   ],
   "source": [
    "a.greeting() # \"What's up!\""
   ]
  },
  {
   "cell_type": "code",
   "execution_count": 19,
   "metadata": {},
   "outputs": [
    {
     "name": "stdout",
     "output_type": "stream",
     "text": [
      "Leonardo\n",
      "242\n",
      "242\n"
     ]
    }
   ],
   "source": [
    "print(a._name) # 可以正常访问\n",
    "print(a.cal_l2norm()) # 输出11*11+11*11=242\n",
    "print(a._A__l2norm()) # 仍然可以访问，只是名字不一样"
   ]
  },
  {
   "cell_type": "code",
   "execution_count": 20,
   "metadata": {},
   "outputs": [
    {
     "ename": "AttributeError",
     "evalue": "'A' object has no attribute '__l2norm'",
     "traceback": [
      "\u001b[1;31m---------------------------------------------------------------------------\u001b[0m",
      "\u001b[1;31mAttributeError\u001b[0m                            Traceback (most recent call last)",
      "\u001b[1;32m<ipython-input-20-66e5589b2219>\u001b[0m in \u001b[0;36m<module>\u001b[1;34m()\u001b[0m\n\u001b[1;32m----> 1\u001b[1;33m \u001b[0mprint\u001b[0m\u001b[1;33m(\u001b[0m\u001b[0ma\u001b[0m\u001b[1;33m.\u001b[0m\u001b[0m__l2norm\u001b[0m\u001b[1;33m(\u001b[0m\u001b[1;33m)\u001b[0m\u001b[1;33m)\u001b[0m \u001b[1;31m# 报错: 'A' object has no attribute '__l2norm'\u001b[0m\u001b[1;33m\u001b[0m\u001b[0m\n\u001b[0m",
      "\u001b[1;31mAttributeError\u001b[0m: 'A' object has no attribute '__l2norm'"
     ],
     "output_type": "error"
    }
   ],
   "source": [
    "print(a.__l2norm()) # 报错: 'A' object has no attribute '__l2norm'"
   ]
  },
  {
   "cell_type": "markdown",
   "metadata": {},
   "source": [
    "# 字符串"
   ]
  },
  {
   "cell_type": "code",
   "execution_count": 21,
   "metadata": {},
   "outputs": [
    {
     "data": {
      "text/plain": [
       "'life is short, you need python'"
      ]
     },
     "execution_count": 21,
     "metadata": {},
     "output_type": "execute_result"
    }
   ],
   "source": [
    "a = 'Life is short, you need Python'\n",
    "a.lower() "
   ]
  },
  {
   "cell_type": "code",
   "execution_count": 22,
   "metadata": {},
   "outputs": [
    {
     "data": {
      "text/plain": [
       "'LIFE IS SHORT, YOU NEED PYTHON'"
      ]
     },
     "execution_count": 22,
     "metadata": {},
     "output_type": "execute_result"
    }
   ],
   "source": [
    "a.upper()"
   ]
  },
  {
   "cell_type": "code",
   "execution_count": 23,
   "metadata": {},
   "outputs": [
    {
     "data": {
      "text/plain": [
       "2"
      ]
     },
     "execution_count": 23,
     "metadata": {},
     "output_type": "execute_result"
    }
   ],
   "source": [
    "a.count('i')"
   ]
  },
  {
   "cell_type": "code",
   "execution_count": 24,
   "metadata": {},
   "outputs": [
    {
     "data": {
      "text/plain": [
       "3"
      ]
     },
     "execution_count": 24,
     "metadata": {},
     "output_type": "execute_result"
    }
   ],
   "source": [
    "a.find('e')     # 从左向右查找'e'，3"
   ]
  },
  {
   "cell_type": "code",
   "execution_count": 25,
   "metadata": {},
   "outputs": [
    {
     "data": {
      "text/plain": [
       "19"
      ]
     },
     "execution_count": 25,
     "metadata": {},
     "output_type": "execute_result"
    }
   ],
   "source": [
    "a.rfind('need') # 从右向左查找'need'"
   ]
  },
  {
   "cell_type": "code",
   "execution_count": 26,
   "metadata": {},
   "outputs": [
    {
     "data": {
      "text/plain": [
       "'Life is short, I need Python'"
      ]
     },
     "execution_count": 26,
     "metadata": {},
     "output_type": "execute_result"
    }
   ],
   "source": [
    "a.replace('you', 'I')"
   ]
  },
  {
   "cell_type": "code",
   "execution_count": 29,
   "metadata": {},
   "outputs": [
    {
     "data": {
      "text/plain": [
       "['Life', 'is', 'short,', 'you', 'need', 'Python']"
      ]
     },
     "execution_count": 29,
     "metadata": {},
     "output_type": "execute_result"
    }
   ],
   "source": [
    "tokens = a.split() \n",
    "tokens"
   ]
  },
  {
   "cell_type": "code",
   "execution_count": 31,
   "metadata": {},
   "outputs": [
    {
     "data": {
      "text/plain": [
       "'Life is short, you need Python'"
      ]
     },
     "execution_count": 31,
     "metadata": {},
     "output_type": "execute_result"
    }
   ],
   "source": [
    "b = ' '.join(tokens)          # 用指定分隔符按顺序把字符串列表组合成新字符串\n",
    "b"
   ]
  },
  {
   "cell_type": "code",
   "execution_count": 32,
   "metadata": {},
   "outputs": [
    {
     "data": {
      "text/plain": [
       "'Life is short, you need Python\\n'"
      ]
     },
     "execution_count": 32,
     "metadata": {},
     "output_type": "execute_result"
    }
   ],
   "source": [
    "c = a + '\\n'       # 加了换行符，注意 + 用法是字符串作为序列的用法\n",
    "c"
   ]
  },
  {
   "cell_type": "code",
   "execution_count": 33,
   "metadata": {},
   "outputs": [
    {
     "data": {
      "text/plain": [
       "'Life is short, you need Python'"
      ]
     },
     "execution_count": 33,
     "metadata": {},
     "output_type": "execute_result"
    }
   ],
   "source": [
    "c.rstrip()    # 右侧去除换行符"
   ]
  },
  {
   "cell_type": "code",
   "execution_count": 34,
   "metadata": {},
   "outputs": [
    {
     "data": {
      "text/plain": [
       "'Life is short, you need Python\\n'"
      ]
     },
     "execution_count": 34,
     "metadata": {},
     "output_type": "execute_result"
    }
   ],
   "source": [
    "c"
   ]
  },
  {
   "cell_type": "code",
   "execution_count": 35,
   "metadata": {
    "scrolled": true
   },
   "outputs": [
    {
     "data": {
      "text/plain": [
       "['L',\n",
       " 'i',\n",
       " 'f',\n",
       " 'e',\n",
       " ' ',\n",
       " 'i',\n",
       " 's',\n",
       " ' ',\n",
       " 's',\n",
       " 'h',\n",
       " 'o',\n",
       " 'r',\n",
       " 't',\n",
       " ',',\n",
       " ' ',\n",
       " 'y',\n",
       " 'o',\n",
       " 'u',\n",
       " ' ',\n",
       " 'n',\n",
       " 'e',\n",
       " 'e',\n",
       " 'd',\n",
       " ' ',\n",
       " 'P',\n",
       " 'y',\n",
       " 't',\n",
       " 'h',\n",
       " 'o',\n",
       " 'n']"
      ]
     },
     "execution_count": 35,
     "metadata": {},
     "output_type": "execute_result"
    }
   ],
   "source": [
    "[x for x in a] # 遍历每个字符并生成由所有字符按顺序构成的列表"
   ]
  },
  {
   "cell_type": "code",
   "execution_count": 36,
   "metadata": {},
   "outputs": [
    {
     "data": {
      "text/plain": [
       "True"
      ]
     },
     "execution_count": 36,
     "metadata": {},
     "output_type": "execute_result"
    }
   ],
   "source": [
    "'Python' in a "
   ]
  },
  {
   "cell_type": "code",
   "execution_count": 37,
   "metadata": {},
   "outputs": [
    {
     "data": {
      "text/plain": [
       "'I’m like a dog chasing cars.'"
      ]
     },
     "execution_count": 37,
     "metadata": {},
     "output_type": "execute_result"
    }
   ],
   "source": [
    "a = 'I’m like a {} chasing {}.'\n",
    "# 按顺序格式化字符串，'I’m like a dog chasing cars.'\n",
    "a.format('dog', 'cars')"
   ]
  },
  {
   "cell_type": "code",
   "execution_count": 38,
   "metadata": {},
   "outputs": [
    {
     "data": {
      "text/plain": [
       "'I prefer Chinese food to American food'"
      ]
     },
     "execution_count": 38,
     "metadata": {},
     "output_type": "execute_result"
    }
   ],
   "source": [
    "# 在大括号中指定参数所在位置\n",
    "b = 'I prefer {1} {0} to {2} {0}'\n",
    "b.format('food', 'Chinese', 'American')"
   ]
  },
  {
   "cell_type": "code",
   "execution_count": 40,
   "metadata": {},
   "outputs": [
    {
     "name": "stdout",
     "output_type": "stream",
     "text": [
      "The index is 000001\n",
      "The index is 000019\n",
      "The index is 000256\n"
     ]
    }
   ],
   "source": [
    "# >代表右对齐，>前是要填充的字符\n",
    "\n",
    "for i in [1, 19, 256]:\n",
    "    print('The index is {:0>6d}'.format(i))"
   ]
  },
  {
   "cell_type": "code",
   "execution_count": 41,
   "metadata": {},
   "outputs": [
    {
     "name": "stdout",
     "output_type": "stream",
     "text": [
      "*---------\n",
      "****------\n",
      "*******---\n"
     ]
    }
   ],
   "source": [
    "# 左对齐\n",
    "\n",
    "for x in ['*', '****', '*******']:\n",
    "    progress_bar = '{:-<10}'.format(x)\n",
    "    print(progress_bar)"
   ]
  },
  {
   "cell_type": "code",
   "execution_count": 46,
   "metadata": {},
   "outputs": [
    {
     "name": "stdout",
     "output_type": "stream",
     "text": [
      "0.000100\n",
      "1.0e-04\n",
      "0.0001\n",
      "------------------------------\n",
      "100000000000000000.000000\n",
      "1.0e+17\n",
      "1e+17\n",
      "------------------------------\n",
      "0.000000\n",
      "3.0e-18\n",
      "3e-18\n",
      "------------------------------\n"
     ]
    }
   ],
   "source": [
    "for x in [0.0001, 1e17, 3e-18]:\n",
    "    print('{:.6f}'.format(x))      # 按照小数点后 6 位的浮点数格式\n",
    "    print('{:.1e}'.format(x))     # 按照小数点后 1 位的科学记数法格式\n",
    "    print ('{:g}'.format(x))     # 系统自动选择最合适的格式\n",
    "    print('-'*30)"
   ]
  },
  {
   "cell_type": "code",
   "execution_count": 47,
   "metadata": {},
   "outputs": [],
   "source": [
    "template = '{name} is {age} years old.'\n",
    "c = template.format(name='Tom', age=8)        # Tom is 8 years old.\n",
    "d = template.format(age=7, name='Jerry')      # Jerry is 7 years old."
   ]
  },
  {
   "cell_type": "code",
   "execution_count": 48,
   "metadata": {},
   "outputs": [
    {
     "data": {
      "text/plain": [
       "'Tom is 8 years old.'"
      ]
     },
     "execution_count": 48,
     "metadata": {},
     "output_type": "execute_result"
    }
   ],
   "source": [
    "c"
   ]
  },
  {
   "cell_type": "code",
   "execution_count": 49,
   "metadata": {},
   "outputs": [
    {
     "data": {
      "text/plain": [
       "'Jerry is 7 years old.'"
      ]
     },
     "execution_count": 49,
     "metadata": {},
     "output_type": "execute_result"
    }
   ],
   "source": [
    "d"
   ]
  },
  {
   "cell_type": "markdown",
   "metadata": {},
   "source": [
    "# 文件操作和pickle"
   ]
  },
  {
   "cell_type": "code",
   "execution_count": 52,
   "metadata": {},
   "outputs": [
    {
     "name": "stdout",
     "output_type": "stream",
     "text": [
      "[\"I'm like a dog chasing cars.\", \"I wouldn't know what to do if I caught one...\", \"I'd just do things.\"]\n"
     ]
    }
   ],
   "source": [
    "import pickle\n",
    "lines = [\n",
    "    \"I'm like a dog chasing cars.\",\n",
    "    \"I wouldn't know what to do if I caught one...\",\n",
    "    \"I'd just do things.\"\n",
    "]\n",
    "\n",
    "with open('lines.pkl', 'wb') as f:     # 序列化并保存成文件\n",
    "    pickle.dump(lines, f)\n",
    "with open('lines.pkl', 'rb') as f:\n",
    "    lines_back = pickle.load(f)\n",
    "print(lines_back) # 和lines一样"
   ]
  },
  {
   "cell_type": "markdown",
   "metadata": {},
   "source": [
    "# 异常\n",
    "相比起其他一些语言，在 Python 中我们可以更大胆地使用异常，因为异常在Python中是非常\n",
    "常见的存在，比如下面这种简单的遍历："
   ]
  },
  {
   "cell_type": "code",
   "execution_count": 53,
   "metadata": {},
   "outputs": [
    {
     "name": "stdout",
     "output_type": "stream",
     "text": [
      "Why\n",
      "so\n",
      "serious\n",
      "?\n"
     ]
    }
   ],
   "source": [
    "a = ['Why', 'so', 'serious', '?']\n",
    "for x in a:\n",
    "    print(x)"
   ]
  },
  {
   "cell_type": "markdown",
   "metadata": {},
   "source": [
    "当用 `for` 进行遍历时，会对要遍历的对象调用 `iter()`。这需要给对象创建一个迭代器用来依次返\n",
    "回对象中的内容。为了能成功调用 `iter()`，该对象要么得支持迭代协议(定义 `__iter__()`)，要么得\n",
    "支持序列协议(定义 `__getitem__()`)。当遍历结束时，`__iter__()` 或者 `__getitem__()` 都需要抛出一\n",
    "个异常。`__iter__()` 会抛出 `StopIteration`，而 `__getitem__()` 会抛出 `IndexError`，于是遍历就会\n",
    "停止。\n",
    "\n",
    "在深度学习中，尤其是数据准备阶段，常常遇到 `IO` 操作。这时候遇到异常的可能性很高，采用\n",
    "异常处理可以保证数据处理的过程不被中断，并对有异常的情况进行记录或其他动作：\n",
    "\n",
    "```python\n",
    "for filepath in filelist:    # filelist 中是文件路径的列表\n",
    "    try:\n",
    "        with open(filepath, 'r') as f:\n",
    "            # 执行数据处理的相关工作\n",
    "            ...\n",
    "            print('{} is processed!'.format(filepath))\n",
    "    except IOError:\n",
    "        print('{} with IOError!'.format(filepath))\n",
    "        # 异常的相应处理\n",
    "        ...\n",
    "```\n",
    "\n",
    "# 多进程（multiprocessing）\n",
    "深度学习中对数据高效处理常常会需要并行，这时多进程就派上了用场。考虑这样一个场景，\n",
    "在数据准备阶段，有很多文件需要运行一定的预处理，正好有台多核服务器，我们希望把这些\n",
    "文件分成 32 份，并行处理：\n",
    "\n",
    "```py\n",
    "from multiprocessing import Process        # freeze_support\n",
    "\n",
    "def process_data(filelist):\n",
    "    for filepath in filelist:\n",
    "    print('Processing {} ...'.format(filepath))\n",
    "    # 处理数据\n",
    "    ...\n",
    "if __name__ == '__main__':\n",
    "    # 如果是在 Windows 下，还需要加上 freeze_support()\n",
    "    # freeze_support()\n",
    "    # full_list包含了要处理的全部文件列表\n",
    "    ...\n",
    "    n_total = len(full_list) # 一个远大于32的数\n",
    "    n_processes = 32\n",
    "    # 每段子列表的平均长度# 计算下标，尽可能均匀地划分输入文件列表\n",
    "    indices = [int(round(i*length)) for i in range(n_processes+1)]\n",
    "    # 生成每个进程要处理的子文件列表\n",
    "    sublists = [full_list[indices[i]:indices[i+1]] for i in range(n_processes)]\n",
    "    # 生成进程\n",
    "    processes = [Process(target=process_data, args=(x,)) for x in sublists]\n",
    "    # 并行处理\n",
    "    for p in processes:\n",
    "    p.start()\n",
    "    for p in processes:\n",
    "    p.join()\n",
    "```\n",
    "\n",
    "其中 `if __name__ == '__main__'` 用来标明在 `import` 时不包含，但是作为文件执行时运行的语\n",
    "句块。为什么不用多线程呢？简单说就是 Python 中线程的并发无法有效利用多核，如果有兴\n",
    "趣的读者可以从下面这个链接看起：[GlobalInterpreterLock - Python Wiki](https://wiki.python.org/moin/GlobalInterpreterLock)\n",
    "\n",
    "# os模块\n",
    "深度学习中的数据多是文件，所以数据处理阶段和文件相关的操作就非常重要。除了文件 IO，\n",
    "Python 中一些操作系统的相关功能也能够非常方便地帮助数据处理。想象一下我们有一个文\n",
    "件夹叫做 data，下边有3个子文件夹叫做 cat，dog 和 bat，里面分别是猫，狗和蝙蝠的照片。\n",
    "为了训练一个三分类模型，我们先要生成一个文件，里面每一行是文件的路径和对应的标签。\n",
    "定义 cat 是 $0$，dog 是$1$，bat 是 $2$，则可以通过如下脚本：\n",
    "\n",
    "```python\n",
    "import os\n",
    "# 定义文件夹名称和标签的对应关系\n",
    "label_map = {\n",
    "    'cat': 0,\n",
    "    'dog': 1,\n",
    "    'bat': 2\n",
    "}\n",
    "\n",
    "with open('data.txt', 'w') as f:\n",
    "    # 遍历所有文件，root为当前文件夹，dirs是所有子文件夹名，files是所有文件名\n",
    "    for root, dirs, files in os.walk('data'):\n",
    "        for filename in files:\n",
    "            filepath = os.sep.join([root, filename]) # 获得文件完整路径\n",
    "            dirname = root.split(os.sep)[-1] # 获取当前文件夹名称\n",
    "            label = label_map[dirname] # 得到标签\n",
    "            line = '{},{}\\n'.format(filepath, label)\n",
    "            f.write(line)\n",
    "```\n",
    "\n",
    "其中，`os.sep` 是当前操作系统的路径分隔符，在 Unix/Linux 中是 '/'，Windows中是 '\\\\'。有的\n",
    "时候我们已经有了所有的文件在一个文件夹 data 下，希望获取所有文件的名称，则可以用\n",
    "`os.listdir()`:\n",
    "\n",
    "```py\n",
    "filenames = os.listdir('data')\n",
    "```\n",
    "\n",
    "os 也提供了诸如拷贝，移动和修改文件名等操作。同时因为大部分深度学习框架最常见的都是\n",
    "在 Unix/Linux 下使用，并且 Unix/Linux 的shell已经非常强大（比 Windows 好用太多），所以\n",
    "只需要用字符串格式化等方式生成 shell 命令的字符串，然后通过 `os.system()` 就能方便实现很\n",
    "多功能，有时比 os，还有 Python 中另一个操作系统相关模块 shutil 还要方便：\n",
    "\n",
    "```py\n",
    "import os, shutilfilepath1 = 'data/bat/IMG_000000.jpg'\n",
    "# 修改文件名\n",
    "os.system('mv {} {}'.format(filepath0, filepath1))\n",
    "#os.rename(filepath0, filepath1)\n",
    "# 创建文件夹\n",
    "dirname = 'data_samples'\n",
    "os.system('mkdir -p {}'.format(dirname))\n",
    "#if not os.path.exists(dirname):\n",
    "# os.mkdir(dirname)\n",
    "# 拷贝文件\n",
    "os.system('cp {} {}'.format(filepath1, dirname))\n",
    "#shutil.copy(filepath1, dirname)\n",
    "```"
   ]
  }
 ],
 "metadata": {
  "kernelspec": {
   "display_name": "Python 3",
   "language": "python",
   "name": "python3"
  },
  "language_info": {
   "codemirror_mode": {
    "name": "ipython",
    "version": 3
   },
   "file_extension": ".py",
   "mimetype": "text/x-python",
   "name": "python",
   "nbconvert_exporter": "python",
   "pygments_lexer": "ipython3",
   "version": "3.6.3"
  }
 },
 "nbformat": 4,
 "nbformat_minor": 2
}
