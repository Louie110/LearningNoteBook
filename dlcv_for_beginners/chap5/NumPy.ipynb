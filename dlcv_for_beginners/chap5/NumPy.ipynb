{
 "cells": [
  {
   "cell_type": "code",
   "execution_count": 55,
   "metadata": {},
   "outputs": [
    {
     "data": {
      "text/plain": [
       "numpy.ndarray"
      ]
     },
     "execution_count": 55,
     "metadata": {},
     "output_type": "execute_result"
    }
   ],
   "source": [
    "import numpy as np\n",
    "\n",
    "a = [1, 2, 3, 4]     \t#\n",
    "b = np.array(a)         \t# array([1, 2, 3, 4])\n",
    "type(b)                   \t# <type 'numpy.ndarray'>"
   ]
  },
  {
   "cell_type": "code",
   "execution_count": 56,
   "metadata": {},
   "outputs": [
    {
     "data": {
      "text/plain": [
       "(4,)"
      ]
     },
     "execution_count": 56,
     "metadata": {},
     "output_type": "execute_result"
    }
   ],
   "source": [
    "b.shape"
   ]
  },
  {
   "cell_type": "code",
   "execution_count": 57,
   "metadata": {},
   "outputs": [
    {
     "data": {
      "text/plain": [
       "3"
      ]
     },
     "execution_count": 57,
     "metadata": {},
     "output_type": "execute_result"
    }
   ],
   "source": [
    "b.argmax()"
   ]
  },
  {
   "cell_type": "code",
   "execution_count": 58,
   "metadata": {},
   "outputs": [
    {
     "data": {
      "text/plain": [
       "4"
      ]
     },
     "execution_count": 58,
     "metadata": {},
     "output_type": "execute_result"
    }
   ],
   "source": [
    "b.max() "
   ]
  },
  {
   "cell_type": "code",
   "execution_count": 59,
   "metadata": {},
   "outputs": [
    {
     "data": {
      "text/plain": [
       "2.5"
      ]
     },
     "execution_count": 59,
     "metadata": {},
     "output_type": "execute_result"
    }
   ],
   "source": [
    "b.mean()  "
   ]
  },
  {
   "cell_type": "code",
   "execution_count": 60,
   "metadata": {},
   "outputs": [],
   "source": [
    "c = [[1, 2], [3, 4]]  \t# 二维列表\n",
    "d = np.array(c)         \t# 二维numpy数组"
   ]
  },
  {
   "cell_type": "code",
   "execution_count": 61,
   "metadata": {},
   "outputs": [
    {
     "data": {
      "text/plain": [
       "(2, 2)"
      ]
     },
     "execution_count": 61,
     "metadata": {},
     "output_type": "execute_result"
    }
   ],
   "source": [
    "d.shape"
   ]
  },
  {
   "cell_type": "code",
   "execution_count": 62,
   "metadata": {},
   "outputs": [
    {
     "data": {
      "text/plain": [
       "4"
      ]
     },
     "execution_count": 62,
     "metadata": {},
     "output_type": "execute_result"
    }
   ],
   "source": [
    "d.size "
   ]
  },
  {
   "cell_type": "code",
   "execution_count": 63,
   "metadata": {},
   "outputs": [
    {
     "data": {
      "text/plain": [
       "array([3, 4])"
      ]
     },
     "execution_count": 63,
     "metadata": {},
     "output_type": "execute_result"
    }
   ],
   "source": [
    "d.max(axis=0)            \t# 找维度0，也就是最后一个维度上的最大值，array([3, 4])"
   ]
  },
  {
   "cell_type": "code",
   "execution_count": 64,
   "metadata": {},
   "outputs": [
    {
     "data": {
      "text/plain": [
       "array([2, 4])"
      ]
     },
     "execution_count": 64,
     "metadata": {},
     "output_type": "execute_result"
    }
   ],
   "source": [
    "d.max(axis=1)        \t# 找维度1，也就是倒数第二个维度上的最大值，array([2, 4])"
   ]
  },
  {
   "cell_type": "code",
   "execution_count": 65,
   "metadata": {},
   "outputs": [
    {
     "data": {
      "text/plain": [
       "array([2., 3.])"
      ]
     },
     "execution_count": 65,
     "metadata": {},
     "output_type": "execute_result"
    }
   ],
   "source": [
    "d.mean(axis=0)          \t# 找维度0，也就是第一个维度上的均值，array([ 2.,  3.])"
   ]
  },
  {
   "cell_type": "code",
   "execution_count": 66,
   "metadata": {},
   "outputs": [
    {
     "data": {
      "text/plain": [
       "array([1, 2, 3, 4])"
      ]
     },
     "execution_count": 66,
     "metadata": {},
     "output_type": "execute_result"
    }
   ],
   "source": [
    "d.flatten()              \t# 展开一个numpy数组为1维数组，array([1, 2, 3, 4])"
   ]
  },
  {
   "cell_type": "code",
   "execution_count": 67,
   "metadata": {},
   "outputs": [
    {
     "data": {
      "text/plain": [
       "array([1, 2, 3, 4])"
      ]
     },
     "execution_count": 67,
     "metadata": {},
     "output_type": "execute_result"
    }
   ],
   "source": [
    "np.ravel(c)               # 展开一个可以解析的结构为 1 维数组，array([1, 2, 3, 4])"
   ]
  },
  {
   "cell_type": "code",
   "execution_count": 70,
   "metadata": {
    "scrolled": true
   },
   "outputs": [
    {
     "name": "stdout",
     "output_type": "stream",
     "text": [
      "[[1. 1. 1.]\n",
      " [1. 1. 1.]\n",
      " [1. 1. 1.]]\n",
      "[3 3 3 3]\n",
      "(2, 2, 3)\n"
     ]
    }
   ],
   "source": [
    "# 3x3的浮点型2维数组，并且初始化所有元素值为1\n",
    "e = np.ones((3, 3), dtype=np.float)\n",
    "print(e)\n",
    "# 创建一个一维数组，元素值是把3重复4次，array([3, 3, 3, 3])\n",
    "f = np.repeat(3, 4)\n",
    "print(f)\n",
    "# 2x2x3的无符号8位整型3维数组，并且初始化所有元素值为0\n",
    "g = np.zeros((2, 2, 3), dtype=np.uint8)\n",
    "print(g.shape)                    # (2, 2, 3)"
   ]
  },
  {
   "cell_type": "code",
   "execution_count": 71,
   "metadata": {},
   "outputs": [],
   "source": [
    "h = g.astype(np.float)  # 用另一种类型表示"
   ]
  },
  {
   "cell_type": "code",
   "execution_count": 74,
   "metadata": {},
   "outputs": [],
   "source": [
    "l = np.arange(10)      \t# 类似 range，array([0, 1, 2, 3, 4, 5, 6, 7, 8, 9])\n",
    "m = np.linspace(0, 6, 5)# 等差数列，0 到 6之间5个取值，array([ 0., 1.5, 3., 4.5, 6.])\n",
    "\n",
    "p = np.array(\n",
    "    [[1, 2, 3, 4],\n",
    "     [5, 6, 7, 8]]\n",
    ")\n",
    "\n",
    "np.save('p.npy', p)     # 保存到文件\n",
    "q = np.load('p.npy')    # 从文件读取"
   ]
  },
  {
   "cell_type": "code",
   "execution_count": 77,
   "metadata": {},
   "outputs": [
    {
     "data": {
      "text/plain": [
       "17"
      ]
     },
     "execution_count": 77,
     "metadata": {},
     "output_type": "execute_result"
    }
   ],
   "source": [
    "a = np.arange(24).reshape((2, 3, 4))\n",
    "b = a[1][1][1] \n",
    "b"
   ]
  },
  {
   "cell_type": "code",
   "execution_count": 79,
   "metadata": {},
   "outputs": [
    {
     "data": {
      "text/plain": [
       "17"
      ]
     },
     "execution_count": 79,
     "metadata": {},
     "output_type": "execute_result"
    }
   ],
   "source": [
    "b1 = a[1, 1, 1]\n",
    "b1"
   ]
  },
  {
   "cell_type": "markdown",
   "metadata": {},
   "source": [
    "用 `:` 表示当前维度上所有下标"
   ]
  },
  {
   "cell_type": "code",
   "execution_count": 80,
   "metadata": {},
   "outputs": [
    {
     "data": {
      "text/plain": [
       "array([[ 8,  9, 10, 11],\n",
       "       [20, 21, 22, 23]])"
      ]
     },
     "execution_count": 80,
     "metadata": {},
     "output_type": "execute_result"
    }
   ],
   "source": [
    "c = a[:, 2, :]\n",
    "c"
   ]
  },
  {
   "cell_type": "code",
   "execution_count": 81,
   "metadata": {
    "scrolled": true
   },
   "outputs": [
    {
     "data": {
      "text/plain": [
       "array([[ 1,  5,  9],\n",
       "       [13, 17, 21]])"
      ]
     },
     "execution_count": 81,
     "metadata": {},
     "output_type": "execute_result"
    }
   ],
   "source": [
    "d = a[:, :, 1]\n",
    "d"
   ]
  },
  {
   "cell_type": "markdown",
   "metadata": {},
   "source": [
    "用 `...` 表示没有明确指出的维度"
   ]
  },
  {
   "cell_type": "code",
   "execution_count": 82,
   "metadata": {},
   "outputs": [
    {
     "data": {
      "text/plain": [
       "array([[ 1,  5,  9],\n",
       "       [13, 17, 21]])"
      ]
     },
     "execution_count": 82,
     "metadata": {},
     "output_type": "execute_result"
    }
   ],
   "source": [
    "e = a[..., 1]\n",
    "e"
   ]
  },
  {
   "cell_type": "code",
   "execution_count": 83,
   "metadata": {},
   "outputs": [
    {
     "data": {
      "text/plain": [
       "array([[[ 5,  6],\n",
       "        [ 9, 10]],\n",
       "\n",
       "       [[17, 18],\n",
       "        [21, 22]]])"
      ]
     },
     "execution_count": 83,
     "metadata": {},
     "output_type": "execute_result"
    }
   ],
   "source": [
    "f = a[:, 1:, 1:-1]\n",
    "f"
   ]
  },
  {
   "cell_type": "markdown",
   "metadata": {},
   "source": [
    "平均分成3份"
   ]
  },
  {
   "cell_type": "code",
   "execution_count": 84,
   "metadata": {},
   "outputs": [
    {
     "data": {
      "text/plain": [
       "[array([0, 1, 2]), array([3, 4, 5]), array([6, 7, 8])]"
      ]
     },
     "execution_count": 84,
     "metadata": {},
     "output_type": "execute_result"
    }
   ],
   "source": [
    "g = np.split(np.arange(9), 3)\n",
    "g"
   ]
  },
  {
   "cell_type": "markdown",
   "metadata": {},
   "source": [
    "按照下标位置进行划分"
   ]
  },
  {
   "cell_type": "code",
   "execution_count": 86,
   "metadata": {},
   "outputs": [
    {
     "data": {
      "text/plain": [
       "[array([0, 1]), array([2, 3, 4, 5]), array([6, 7, 8])]"
      ]
     },
     "execution_count": 86,
     "metadata": {},
     "output_type": "execute_result"
    }
   ],
   "source": [
    "h = np.split(np.arange(9), [2, -3])\n",
    "h"
   ]
  },
  {
   "cell_type": "markdown",
   "metadata": {},
   "source": [
    "1. `vstack` 是指沿着纵轴拼接两个 array，vertical\n",
    "2. `hstack`是指沿着横轴拼接两个 array，horizontal\n",
    "3. 更广义的拼接用 `concatenate` 实现，horizontal 后的两句依次等效于 `vstack` 和 `hstack`\n",
    "4. `stack` 不是拼接而是在输入 array 的基础上增加一个新的维度"
   ]
  },
  {
   "cell_type": "code",
   "execution_count": 101,
   "metadata": {},
   "outputs": [],
   "source": [
    "l0 = np.arange(6).reshape((2, 3))\n",
    "l1 = np.arange(6, 12).reshape((2, 3))"
   ]
  },
  {
   "cell_type": "code",
   "execution_count": 102,
   "metadata": {},
   "outputs": [
    {
     "data": {
      "text/plain": [
       "array([[ 0,  1,  2],\n",
       "       [ 3,  4,  5],\n",
       "       [ 6,  7,  8],\n",
       "       [ 9, 10, 11]])"
      ]
     },
     "execution_count": 102,
     "metadata": {},
     "output_type": "execute_result"
    }
   ],
   "source": [
    "m = np.vstack((l0, l1))\n",
    "m"
   ]
  },
  {
   "cell_type": "code",
   "execution_count": 103,
   "metadata": {},
   "outputs": [
    {
     "data": {
      "text/plain": [
       "array([[ 0,  1,  2,  6,  7,  8],\n",
       "       [ 3,  4,  5,  9, 10, 11]])"
      ]
     },
     "execution_count": 103,
     "metadata": {},
     "output_type": "execute_result"
    }
   ],
   "source": [
    "p = np.hstack((l0, l1))\n",
    "p"
   ]
  },
  {
   "cell_type": "code",
   "execution_count": 104,
   "metadata": {},
   "outputs": [
    {
     "data": {
      "text/plain": [
       "array([[ 0,  1,  2],\n",
       "       [ 3,  4,  5],\n",
       "       [ 6,  7,  8],\n",
       "       [ 9, 10, 11]])"
      ]
     },
     "execution_count": 104,
     "metadata": {},
     "output_type": "execute_result"
    }
   ],
   "source": [
    "q = np.concatenate((l0, l1))\n",
    "q"
   ]
  },
  {
   "cell_type": "code",
   "execution_count": 105,
   "metadata": {},
   "outputs": [
    {
     "data": {
      "text/plain": [
       "array([[ 0,  1,  2,  6,  7,  8],\n",
       "       [ 3,  4,  5,  9, 10, 11]])"
      ]
     },
     "execution_count": 105,
     "metadata": {},
     "output_type": "execute_result"
    }
   ],
   "source": [
    "r = np.concatenate((l0, l1), axis=-1)\n",
    "r"
   ]
  },
  {
   "cell_type": "code",
   "execution_count": 106,
   "metadata": {},
   "outputs": [
    {
     "data": {
      "text/plain": [
       "array([[[ 0,  1,  2],\n",
       "        [ 3,  4,  5]],\n",
       "\n",
       "       [[ 6,  7,  8],\n",
       "        [ 9, 10, 11]]])"
      ]
     },
     "execution_count": 106,
     "metadata": {},
     "output_type": "execute_result"
    }
   ],
   "source": [
    "s = np.stack((l0, l1))\n",
    "s"
   ]
  },
  {
   "cell_type": "markdown",
   "metadata": {},
   "source": [
    "按指定轴进行转置"
   ]
  },
  {
   "cell_type": "code",
   "execution_count": 89,
   "metadata": {},
   "outputs": [
    {
     "data": {
      "text/plain": [
       "array([[[ 0,  3],\n",
       "        [ 6,  9]],\n",
       "\n",
       "       [[ 1,  4],\n",
       "        [ 7, 10]],\n",
       "\n",
       "       [[ 2,  5],\n",
       "        [ 8, 11]]])"
      ]
     },
     "execution_count": 89,
     "metadata": {},
     "output_type": "execute_result"
    }
   ],
   "source": [
    "t = s.transpose((2, 0, 1))\n",
    "t"
   ]
  },
  {
   "cell_type": "markdown",
   "metadata": {},
   "source": [
    "默认转置将维度倒序，对于 2 维就是横纵轴互换"
   ]
  },
  {
   "cell_type": "code",
   "execution_count": 90,
   "metadata": {},
   "outputs": [
    {
     "data": {
      "text/plain": [
       "array([[ 0,  4,  8],\n",
       "       [ 1,  5,  9],\n",
       "       [ 2,  6, 10],\n",
       "       [ 3,  7, 11]])"
      ]
     },
     "execution_count": 90,
     "metadata": {},
     "output_type": "execute_result"
    }
   ],
   "source": [
    "u = a[0].transpose()\t# 或者u=a[0].T也是获得转置\n",
    "u"
   ]
  },
  {
   "cell_type": "markdown",
   "metadata": {},
   "source": [
    "逆时针旋转90度，第二个参数是旋转次数"
   ]
  },
  {
   "cell_type": "code",
   "execution_count": 91,
   "metadata": {},
   "outputs": [
    {
     "data": {
      "text/plain": [
       "array([[ 3,  2,  1,  0],\n",
       "       [ 7,  6,  5,  4],\n",
       "       [11, 10,  9,  8]])"
      ]
     },
     "execution_count": 91,
     "metadata": {},
     "output_type": "execute_result"
    }
   ],
   "source": [
    "v = np.rot90(u, 3)\n",
    "v"
   ]
  },
  {
   "cell_type": "markdown",
   "metadata": {},
   "source": [
    "沿纵轴左右翻转"
   ]
  },
  {
   "cell_type": "code",
   "execution_count": 93,
   "metadata": {},
   "outputs": [
    {
     "data": {
      "text/plain": [
       "array([[ 8,  4,  0],\n",
       "       [ 9,  5,  1],\n",
       "       [10,  6,  2],\n",
       "       [11,  7,  3]])"
      ]
     },
     "execution_count": 93,
     "metadata": {},
     "output_type": "execute_result"
    }
   ],
   "source": [
    "w = np.fliplr(u)\n",
    "w"
   ]
  },
  {
   "cell_type": "markdown",
   "metadata": {},
   "source": [
    "沿水平轴上下翻转"
   ]
  },
  {
   "cell_type": "code",
   "execution_count": 94,
   "metadata": {},
   "outputs": [
    {
     "data": {
      "text/plain": [
       "array([[ 3,  7, 11],\n",
       "       [ 2,  6, 10],\n",
       "       [ 1,  5,  9],\n",
       "       [ 0,  4,  8]])"
      ]
     },
     "execution_count": 94,
     "metadata": {},
     "output_type": "execute_result"
    }
   ],
   "source": [
    "x = np.flipud(u)\n",
    "x"
   ]
  },
  {
   "cell_type": "markdown",
   "metadata": {},
   "source": [
    "按照一维顺序滚动位移"
   ]
  },
  {
   "cell_type": "code",
   "execution_count": 95,
   "metadata": {},
   "outputs": [
    {
     "data": {
      "text/plain": [
       "array([[11,  0,  4],\n",
       "       [ 8,  1,  5],\n",
       "       [ 9,  2,  6],\n",
       "       [10,  3,  7]])"
      ]
     },
     "execution_count": 95,
     "metadata": {},
     "output_type": "execute_result"
    }
   ],
   "source": [
    "y = np.roll(u, 1)\n",
    "y"
   ]
  },
  {
   "cell_type": "markdown",
   "metadata": {},
   "source": [
    "按照指定轴滚动位移"
   ]
  },
  {
   "cell_type": "code",
   "execution_count": 96,
   "metadata": {},
   "outputs": [
    {
     "data": {
      "text/plain": [
       "array([[ 8,  0,  4],\n",
       "       [ 9,  1,  5],\n",
       "       [10,  2,  6],\n",
       "       [11,  3,  7]])"
      ]
     },
     "execution_count": 96,
     "metadata": {},
     "output_type": "execute_result"
    }
   ],
   "source": [
    "z = np.roll(u, 1, axis=1)\n",
    "z"
   ]
  },
  {
   "cell_type": "code",
   "execution_count": 97,
   "metadata": {},
   "outputs": [],
   "source": [
    "import numpy as np\n",
    "\n",
    "# 绝对值，1\n",
    "a = np.abs(-1)\n",
    "\n",
    "# sin函数，1.0\n",
    "b = np.sin(np.pi/2)\n",
    "\n",
    "# tanh逆函数，0.50000107157840523\n",
    "c = np.arctanh(0.462118)\n",
    "\n",
    "# e为底的指数函数，20.085536923187668\n",
    "d = np.exp(3)\n",
    "\n",
    "# 2的3次方，8\n",
    "f = np.power(2, 3)\n",
    "\n",
    "# 点积，1*3+2*4=11\n",
    "g = np.dot([1, 2], [3, 4])\n",
    "\n",
    "# 开方，5\n",
    "h = np.sqrt(25)\n",
    "\n",
    "# 求和，10\n",
    "l = np.sum([1, 2, 3, 4])\n",
    "\n",
    "# 平均值，5.5\n",
    "m = np.mean([4, 5, 6, 7])\n",
    "\n",
    "# 标准差，0.96824583655185426\n",
    "p = np.std([1, 2, 3, 2, 1, 3, 2, 0])"
   ]
  },
  {
   "cell_type": "markdown",
   "metadata": {},
   "source": [
    "## 广播"
   ]
  },
  {
   "cell_type": "code",
   "execution_count": 98,
   "metadata": {},
   "outputs": [
    {
     "data": {
      "text/plain": [
       "array([[ 0,  1,  2],\n",
       "       [ 3,  4,  5],\n",
       "       [ 6,  7,  8],\n",
       "       [ 9, 10, 11]])"
      ]
     },
     "execution_count": 98,
     "metadata": {},
     "output_type": "execute_result"
    }
   ],
   "source": [
    "import numpy as np\n",
    "\n",
    "a = np.array([\n",
    "    [1, 2, 3],\n",
    "    [4, 5, 6]\n",
    "])\n",
    "\n",
    "b = np.array([\n",
    "    [1, 2, 3],\n",
    "    [1, 2, 3]\n",
    "])\n",
    "\n",
    "'''\n",
    "维度一样的array，对位计算\n",
    "array([[2, 4, 6],\n",
    "       [5, 7, 9]])\n",
    "'''\n",
    "a + b\n",
    "\n",
    "'''\n",
    "array([[0, 0, 0],\n",
    "       [3, 3, 3]])\n",
    "'''\n",
    "a - b\n",
    "\n",
    "'''\n",
    "array([[ 1,  4,  9],\n",
    "       [ 4, 10, 18]])\n",
    "'''\n",
    "a * b\n",
    "\n",
    "'''\n",
    "array([[1, 1, 1],\n",
    "       [4, 2, 2]])\n",
    "'''\n",
    "a / b\n",
    "\n",
    "'''\n",
    "array([[ 1,  4,  9],\n",
    "       [16, 25, 36]])\n",
    "'''\n",
    "a ** 2\n",
    "\n",
    "'''\n",
    "array([[  1,   4,  27],\n",
    "       [  4,  25, 216]])\n",
    "'''\n",
    "a ** b\n",
    "\n",
    "c = np.array([\n",
    "    [1, 2, 3],\n",
    "    [4, 5, 6],\n",
    "    [7, 8, 9],\n",
    "    [10, 11, 12]\n",
    "])\n",
    "d = np.array([2, 2, 2])\n",
    "\n",
    "'''\n",
    "广播机制让计算的表达式保持简洁\n",
    "d和c的每一行分别进行运算\n",
    "array([[ 3,  4,  5],\n",
    "       [ 6,  7,  8],\n",
    "       [ 9, 10, 11],\n",
    "       [12, 13, 14]])\n",
    "'''\n",
    "c + d\n",
    "\n",
    "'''\n",
    "array([[ 2,  4,  6],\n",
    "       [ 8, 10, 12],\n",
    "       [14, 16, 18],\n",
    "       [20, 22, 24]])\n",
    "'''\n",
    "c * d\n",
    "\n",
    "'''\n",
    "1和c的每个元素分别进行运算\n",
    "array([[ 0,  1,  2],\n",
    "       [ 3,  4,  5],\n",
    "       [ 6,  7,  8],\n",
    "       [ 9, 10, 11]])\n",
    "'''\n",
    "c - 1"
   ]
  },
  {
   "cell_type": "markdown",
   "metadata": {},
   "source": [
    "# 线性代数模块（linalg）"
   ]
  },
  {
   "cell_type": "code",
   "execution_count": 107,
   "metadata": {},
   "outputs": [
    {
     "data": {
      "text/plain": [
       "5.0"
      ]
     },
     "execution_count": 107,
     "metadata": {},
     "output_type": "execute_result"
    }
   ],
   "source": [
    "import numpy as np\n",
    "\n",
    "a = np.array([3, 4])\n",
    "np.linalg.norm(a)"
   ]
  },
  {
   "cell_type": "code",
   "execution_count": 108,
   "metadata": {},
   "outputs": [
    {
     "data": {
      "text/plain": [
       "array([ 4, 10, 16])"
      ]
     },
     "execution_count": 108,
     "metadata": {},
     "output_type": "execute_result"
    }
   ],
   "source": [
    "b = np.array([\n",
    "    [1, 2, 3],\n",
    "    [4, 5, 6],\n",
    "    [7, 8, 9]\n",
    "])\n",
    "c = np.array([1, 0, 1])\n",
    "\n",
    "# 矩阵和向量之间的乘法\n",
    "np.dot(b, c)            \t\t# array([ 4, 10, 16])\n",
    "np.dot(c, b.T)          \t\t# array([ 4, 10, 16])"
   ]
  },
  {
   "cell_type": "code",
   "execution_count": 109,
   "metadata": {},
   "outputs": [
    {
     "data": {
      "text/plain": [
       "15"
      ]
     },
     "execution_count": 109,
     "metadata": {},
     "output_type": "execute_result"
    }
   ],
   "source": [
    "np.trace(b)             \t\t# 求矩阵的迹，15"
   ]
  },
  {
   "cell_type": "code",
   "execution_count": 110,
   "metadata": {},
   "outputs": [
    {
     "data": {
      "text/plain": [
       "0.0"
      ]
     },
     "execution_count": 110,
     "metadata": {},
     "output_type": "execute_result"
    }
   ],
   "source": [
    "np.linalg.det(b)        \t\t# 求矩阵的行列式值，0"
   ]
  },
  {
   "cell_type": "code",
   "execution_count": 111,
   "metadata": {},
   "outputs": [
    {
     "data": {
      "text/plain": [
       "2"
      ]
     },
     "execution_count": 111,
     "metadata": {},
     "output_type": "execute_result"
    }
   ],
   "source": [
    "np.linalg.matrix_rank(b)\t# 求矩阵的秩，2，不满秩，因为行与行之间等差"
   ]
  },
  {
   "cell_type": "code",
   "execution_count": 113,
   "metadata": {},
   "outputs": [],
   "source": [
    "d = np.array([\n",
    "    [2, 1],\n",
    "    [1, 2]\n",
    "])\n",
    "\n",
    "'''\n",
    "对正定矩阵求本征值和本征向量\n",
    "本征值为u，array([ 3.,  1.])\n",
    "本征向量构成的二维array为v，\n",
    "array([[ 0.70710678, -0.70710678],\n",
    "       [ 0.70710678,  0.70710678]])\n",
    "是沿着45°方向\n",
    "eig()是一般情况的本征值分解，对于更常见的对称实数矩阵，\n",
    "eigh()更快且更稳定，不过输出的值的顺序和eig()是相反的\n",
    "'''\n",
    "\n",
    "u, v = np.linalg.eig(d)"
   ]
  },
  {
   "cell_type": "code",
   "execution_count": 122,
   "metadata": {},
   "outputs": [
    {
     "name": "stdout",
     "output_type": "stream",
     "text": [
      "矩阵 d 的特征值为： \n",
      "[3. 1.]; \n",
      "\n",
      "特征向量为： \n",
      "[[ 0.70710678 -0.70710678]\n",
      " [ 0.70710678  0.70710678]].\n"
     ]
    }
   ],
   "source": [
    "print('矩阵 d 的特征值为： \\n{}; \\n\\n特征向量为： \\n{}.'.format(str(u), str(v)))"
   ]
  },
  {
   "cell_type": "code",
   "execution_count": 123,
   "metadata": {
    "scrolled": true
   },
   "outputs": [
    {
     "data": {
      "text/plain": [
       "array([[1.41421356, 0.        ],\n",
       "       [0.70710678, 1.22474487]])"
      ]
     },
     "execution_count": 123,
     "metadata": {},
     "output_type": "execute_result"
    }
   ],
   "source": [
    "# Cholesky 分解并重建\n",
    "l = np.linalg.cholesky(d)\n",
    "l"
   ]
  },
  {
   "cell_type": "code",
   "execution_count": 124,
   "metadata": {},
   "outputs": [
    {
     "data": {
      "text/plain": [
       "array([[2., 1.],\n",
       "       [1., 2.]])"
      ]
     },
     "execution_count": 124,
     "metadata": {},
     "output_type": "execute_result"
    }
   ],
   "source": [
    "np.dot(l, l.T)"
   ]
  },
  {
   "cell_type": "code",
   "execution_count": 127,
   "metadata": {},
   "outputs": [
    {
     "data": {
      "text/plain": [
       "array([[1., 2.],\n",
       "       [3., 4.]])"
      ]
     },
     "execution_count": 127,
     "metadata": {},
     "output_type": "execute_result"
    }
   ],
   "source": [
    "e = np.array([\n",
    "    [1, 2],\n",
    "    [3, 4]\n",
    "])\n",
    "\n",
    "# 对不正定矩阵，进行 SVD 分解并重建\n",
    "U, s, V = np.linalg.svd(e)\n",
    "\n",
    "S = np.array([\n",
    "    [s[0], 0],\n",
    "    [0, s[1]]\n",
    "])\n",
    "\n",
    "np.dot(U, np.dot(S, V))"
   ]
  },
  {
   "cell_type": "markdown",
   "metadata": {},
   "source": [
    "# 随机模块（random）\n",
    "随机模块包含了随机数产生和统计分布相关的基本函数，Python 本身也有随机模块 mmrandom，不过功能更丰富，还是来看例子："
   ]
  },
  {
   "cell_type": "code",
   "execution_count": 129,
   "metadata": {},
   "outputs": [
    {
     "data": {
      "text/plain": [
       "array([[0.37454012, 0.95071431, 0.73199394]])"
      ]
     },
     "execution_count": 129,
     "metadata": {},
     "output_type": "execute_result"
    }
   ],
   "source": [
    "import numpy as np\n",
    "import numpy.random as random\n",
    "\n",
    "# 设置随机数种子\n",
    "random.seed(42)\n",
    "\n",
    "# 产生一个1x3，[0,1)之间的浮点型随机数\n",
    "random.rand(1, 3)"
   ]
  },
  {
   "cell_type": "code",
   "execution_count": 130,
   "metadata": {},
   "outputs": [
    {
     "data": {
      "text/plain": [
       "0.5986584841970366"
      ]
     },
     "execution_count": 130,
     "metadata": {},
     "output_type": "execute_result"
    }
   ],
   "source": [
    "# 产生一个[0,1)之间的浮点型随机数\n",
    "random.random()"
   ]
  },
  {
   "cell_type": "code",
   "execution_count": 131,
   "metadata": {},
   "outputs": [
    {
     "data": {
      "text/plain": [
       "array([[0.17052412, 0.06505159, 0.94888554],\n",
       "       [0.96563203, 0.80839735, 0.30461377],\n",
       "       [0.09767211, 0.68423303, 0.44015249]])"
      ]
     },
     "execution_count": 131,
     "metadata": {},
     "output_type": "execute_result"
    }
   ],
   "source": [
    "# 下边4个没有区别，都是按照指定大小产生[0,1)之间的浮点型随机数array，不 Pythonic…\n",
    "random.random((3, 3))\n",
    "random.sample((3, 3))\n",
    "random.random_sample((3, 3))\n",
    "random.ranf((3, 3))"
   ]
  },
  {
   "cell_type": "code",
   "execution_count": 136,
   "metadata": {},
   "outputs": [
    {
     "data": {
      "text/plain": [
       "array([1.59797123, 4.56622394, 4.80392524, 3.80638599, 4.8548359 ,\n",
       "       3.46897798, 3.61366415, 3.13770509, 1.12709563, 1.53945713])"
      ]
     },
     "execution_count": 136,
     "metadata": {},
     "output_type": "execute_result"
    }
   ],
   "source": [
    "# 产生 10 个 [1,6) 之间的浮点型随机数\n",
    "5 * random.random(10) + 1"
   ]
  },
  {
   "cell_type": "code",
   "execution_count": 137,
   "metadata": {},
   "outputs": [
    {
     "data": {
      "text/plain": [
       "array([1.15714593, 4.18205206, 2.57177991, 3.54285346, 5.53783237,\n",
       "       2.24646115, 3.05191462, 4.77775569, 2.14399083, 1.38489955])"
      ]
     },
     "execution_count": 137,
     "metadata": {},
     "output_type": "execute_result"
    }
   ],
   "source": [
    "random.uniform(1, 6, 10)"
   ]
  },
  {
   "cell_type": "code",
   "execution_count": 138,
   "metadata": {},
   "outputs": [
    {
     "data": {
      "text/plain": [
       "array([3, 3, 4, 2, 2, 5, 1, 5, 4, 4])"
      ]
     },
     "execution_count": 138,
     "metadata": {},
     "output_type": "execute_result"
    }
   ],
   "source": [
    "# 产生10个[1,6)之间的整型随机数\n",
    "random.randint(1, 6, 10)"
   ]
  },
  {
   "cell_type": "code",
   "execution_count": 139,
   "metadata": {},
   "outputs": [
    {
     "data": {
      "text/plain": [
       "array([[-0.41476463, -1.39874088],\n",
       "       [-0.34408054,  0.75078589],\n",
       "       [-0.32762518, -0.86159805],\n",
       "       [-0.2581848 ,  0.46095562],\n",
       "       [-1.34938997, -1.01907279]])"
      ]
     },
     "execution_count": 139,
     "metadata": {},
     "output_type": "execute_result"
    }
   ],
   "source": [
    "# 产生2x5的标准正态分布样本\n",
    "random.normal(size=(5, 2))"
   ]
  },
  {
   "cell_type": "code",
   "execution_count": 140,
   "metadata": {},
   "outputs": [
    {
     "data": {
      "text/plain": [
       "array([1, 3, 2, 3, 2])"
      ]
     },
     "execution_count": 140,
     "metadata": {},
     "output_type": "execute_result"
    }
   ],
   "source": [
    "# 产生5个，n=5，p=0.5的二项分布样本\n",
    "random.binomial(n=5, p=0.5, size=5)"
   ]
  },
  {
   "cell_type": "code",
   "execution_count": 141,
   "metadata": {},
   "outputs": [
    {
     "data": {
      "text/plain": [
       "array([7, 5, 7, 8, 3, 0, 0])"
      ]
     },
     "execution_count": 141,
     "metadata": {},
     "output_type": "execute_result"
    }
   ],
   "source": [
    "a = np.arange(10)\n",
    "\n",
    "# 从a中有回放的随机采样7个\n",
    "random.choice(a, 7)"
   ]
  },
  {
   "cell_type": "code",
   "execution_count": 142,
   "metadata": {},
   "outputs": [
    {
     "data": {
      "text/plain": [
       "array([6, 4, 7, 0, 2, 1, 5])"
      ]
     },
     "execution_count": 142,
     "metadata": {},
     "output_type": "execute_result"
    }
   ],
   "source": [
    "# 从a中无回放的随机采样7个\n",
    "random.choice(a, 7, replace=False)"
   ]
  },
  {
   "cell_type": "code",
   "execution_count": 145,
   "metadata": {},
   "outputs": [
    {
     "data": {
      "text/plain": [
       "array([7, 1, 4, 0, 9, 2, 8, 3, 6, 5])"
      ]
     },
     "execution_count": 145,
     "metadata": {},
     "output_type": "execute_result"
    }
   ],
   "source": [
    "# 对a进行乱序并返回一个新的array\n",
    "b = random.permutation(a)\n",
    "b"
   ]
  },
  {
   "cell_type": "code",
   "execution_count": 149,
   "metadata": {},
   "outputs": [
    {
     "data": {
      "text/plain": [
       "array([3, 2, 9, 6, 0, 7, 1, 5, 4, 8])"
      ]
     },
     "execution_count": 149,
     "metadata": {},
     "output_type": "execute_result"
    }
   ],
   "source": [
    "# 对 a 进行 in-place 乱序\n",
    "random.shuffle(a)\n",
    "a"
   ]
  },
  {
   "cell_type": "code",
   "execution_count": 150,
   "metadata": {},
   "outputs": [
    {
     "data": {
      "text/plain": [
       "b'\\xddO\\x99\\xe0)\\xed\\x1e\\xb2b'"
      ]
     },
     "execution_count": 150,
     "metadata": {},
     "output_type": "execute_result"
    }
   ],
   "source": [
    "# 生成一个长度为 9 的随机bytes序列并作为 str 返回\n",
    "random.bytes(9)"
   ]
  },
  {
   "cell_type": "markdown",
   "metadata": {},
   "source": [
    "随机模块可以很方便地让我们做一些快速模拟去验证一些结论。比如来考虑一个非常违反直觉的概率题例子：一个选手去参加一个 TV 秀，有三扇门，其中一扇门后有奖品，这扇门只有主持人知道。选手先随机选一扇门，但并不打开，主持人看到后，会打开其余两扇门中没有奖品的一扇门。然后，主持人问选手，是否要改变一开始的选择？\n",
    "\n",
    "这个问题的答案是应该改变一开始的选择。在第一次选择的时候，选错的概率是$\\frac{2}{3}$，选对的概率是 $\\frac{1}{3}$。第一次选择之后，主持人相当于帮忙剔除了一个错误答案，所以如果一开始选的是错的，这时候换掉就选对了；而如果一开始就选对，则这时候换掉就错了。根据以上，一开始选错的概率就是换掉之后选对的概率 $\\frac{2}{3}$，这个概率大于一开始就选对的概率 $\\frac{1}{3}$，所以应该换。虽然道理上是这样，但是还是有些绕，要是通过推理就是搞不明白怎么办，没关系，用随机模拟就可以轻松得到答案："
   ]
  },
  {
   "cell_type": "code",
   "execution_count": 151,
   "metadata": {},
   "outputs": [
    {
     "name": "stdout",
     "output_type": "stream",
     "text": [
      "You win 6616 out of 10000 tests if you changed your mind\n",
      "You win 3384 out of 10000 tests if you insist on the initial choice\n"
     ]
    }
   ],
   "source": [
    "import numpy.random as random\n",
    "\n",
    "random.seed(42)\n",
    "\n",
    "# 做10000次实验\n",
    "n_tests = 10000\n",
    "\n",
    "# 生成每次实验的奖品所在的门的编号\n",
    "# 0表示第一扇门，1表示第二扇门，2表示第三扇门\n",
    "winning_doors = random.randint(0, 3, n_tests)\n",
    "\n",
    "# 记录如果换门的中奖次数\n",
    "change_mind_wins = 0\n",
    "\n",
    "# 记录如果坚持的中奖次数\n",
    "insist_wins = 0\n",
    "\n",
    "# winning_door就是获胜门的编号\n",
    "for winning_door in winning_doors:\n",
    "\n",
    "    # 随机挑了一扇门\n",
    "    first_try = random.randint(0, 3)\n",
    "    \n",
    "    # 其他门的编号\n",
    "    remaining_choices = [i for i in range(3) if i != first_try]\n",
    "  \n",
    "    # 没有奖品的门的编号，这个信息只有主持人知道\n",
    "    wrong_choices = [i for i in range(3) if i != winning_door]\n",
    "\n",
    "    # 一开始选择的门主持人没法打开，所以从主持人可以打开的门中剔除\n",
    "    if first_try in wrong_choices:\n",
    "        wrong_choices.remove(first_try)\n",
    "    \n",
    "    # 这时wrong_choices变量就是主持人可以打开的门的编号\n",
    "    # 注意此时如果一开始选择正确，则可以打开的门是两扇，主持人随便开一扇门\n",
    "    # 如果一开始选到了空门，则主持人只能打开剩下一扇空门\n",
    "    screened_out = random.choice(wrong_choices)\n",
    "    remaining_choices.remove(screened_out)\n",
    "    \n",
    "    # 所以虽然代码写了好些行，如果策略固定的话，\n",
    "    # 改变主意的获胜概率就是一开始选错的概率，是2/3\n",
    "    # 而坚持选择的获胜概率就是一开始就选对的概率，是1/3\n",
    "    \n",
    "    # 现在除了一开始选择的编号，和主持人帮助剔除的错误编号，只剩下一扇门\n",
    "    # 如果要改变注意则这扇门就是最终的选择\n",
    "    changed_mind_try = remaining_choices[0]\n",
    "\n",
    "    # 结果揭晓，记录下来\n",
    "    change_mind_wins += 1 if changed_mind_try == winning_door else 0\n",
    "    insist_wins += 1 if first_try == winning_door else 0\n",
    "\n",
    "# 输出10000次测试的最终结果，和推导的结果差不多：\n",
    "# You win 6616 out of 10000 tests if you changed your mind\n",
    "# You win 3384 out of 10000 tests if you insist on the initial choice\n",
    "print(\n",
    "    'You win {1} out of {0} tests if you changed your mind\\n'\n",
    "    'You win {2} out of {0} tests if you insist on the initial choice'.format(\n",
    "        n_tests, change_mind_wins, insist_wins\n",
    "        )\n",
    ")"
   ]
  }
 ],
 "metadata": {
  "kernelspec": {
   "display_name": "Python 3",
   "language": "python",
   "name": "python3"
  },
  "language_info": {
   "codemirror_mode": {
    "name": "ipython",
    "version": 3
   },
   "file_extension": ".py",
   "mimetype": "text/x-python",
   "name": "python",
   "nbconvert_exporter": "python",
   "pygments_lexer": "ipython3",
   "version": "3.6.3"
  }
 },
 "nbformat": 4,
 "nbformat_minor": 2
}
